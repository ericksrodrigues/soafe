{
 "cells": [
  {
   "cell_type": "code",
   "execution_count": 1,
   "id": "guilty-personal",
   "metadata": {
    "scrolled": true
   },
   "outputs": [
    {
     "data": {
      "text/html": [
       "<div>\n",
       "<style scoped>\n",
       "    .dataframe tbody tr th:only-of-type {\n",
       "        vertical-align: middle;\n",
       "    }\n",
       "\n",
       "    .dataframe tbody tr th {\n",
       "        vertical-align: top;\n",
       "    }\n",
       "\n",
       "    .dataframe thead th {\n",
       "        text-align: right;\n",
       "    }\n",
       "</style>\n",
       "<table border=\"1\" class=\"dataframe\">\n",
       "  <thead>\n",
       "    <tr style=\"text-align: right;\">\n",
       "      <th></th>\n",
       "      <th>dataset</th>\n",
       "      <th>model</th>\n",
       "      <th>score_optimized</th>\n",
       "      <th>score_not_optimized</th>\n",
       "    </tr>\n",
       "  </thead>\n",
       "  <tbody>\n",
       "    <tr>\n",
       "      <th>0</th>\n",
       "      <td>diabetes</td>\n",
       "      <td>random_forest</td>\n",
       "      <td>0.645963</td>\n",
       "      <td>0.631579</td>\n",
       "    </tr>\n",
       "    <tr>\n",
       "      <th>1</th>\n",
       "      <td>diabetes</td>\n",
       "      <td>random_forest</td>\n",
       "      <td>0.693642</td>\n",
       "      <td>0.679012</td>\n",
       "    </tr>\n",
       "    <tr>\n",
       "      <th>2</th>\n",
       "      <td>diabetes</td>\n",
       "      <td>random_forest</td>\n",
       "      <td>0.634146</td>\n",
       "      <td>0.630303</td>\n",
       "    </tr>\n",
       "    <tr>\n",
       "      <th>3</th>\n",
       "      <td>diabetes</td>\n",
       "      <td>random_forest</td>\n",
       "      <td>0.635294</td>\n",
       "      <td>0.727273</td>\n",
       "    </tr>\n",
       "    <tr>\n",
       "      <th>4</th>\n",
       "      <td>diabetes</td>\n",
       "      <td>random_forest</td>\n",
       "      <td>0.658683</td>\n",
       "      <td>0.650888</td>\n",
       "    </tr>\n",
       "  </tbody>\n",
       "</table>\n",
       "</div>"
      ],
      "text/plain": [
       "    dataset          model  score_optimized  score_not_optimized\n",
       "0  diabetes  random_forest         0.645963             0.631579\n",
       "1  diabetes  random_forest         0.693642             0.679012\n",
       "2  diabetes  random_forest         0.634146             0.630303\n",
       "3  diabetes  random_forest         0.635294             0.727273\n",
       "4  diabetes  random_forest         0.658683             0.650888"
      ]
     },
     "execution_count": 1,
     "metadata": {},
     "output_type": "execute_result"
    }
   ],
   "source": [
    "import pandas as pd\n",
    "from scipy.stats import wilcoxon, ttest_ind, ttest_rel\n",
    "\n",
    "df = pd.read_csv(\"results_fs.csv\")\n",
    "df.head()"
   ]
  },
  {
   "cell_type": "code",
   "execution_count": 2,
   "id": "logical-petersburg",
   "metadata": {},
   "outputs": [],
   "source": [
    "datasets = list(df['dataset'].unique())\n",
    "models = list(df['model'].unique())"
   ]
  },
  {
   "cell_type": "code",
   "execution_count": 3,
   "id": "saved-waterproof",
   "metadata": {},
   "outputs": [
    {
     "name": "stdout",
     "output_type": "stream",
     "text": [
      "diabetes random_forest 1.448611766797919e-21\n",
      "diabetes decision_tree 2.4842259983271432e-23\n",
      "diabetes mlp 4.2081849237744935e-21\n",
      "diabetes knn 5.281992430599225e-26\n",
      "hill_valley random_forest 1.3027936534510885e-23\n",
      "hill_valley decision_tree 0.42917129762975037\n",
      "hill_valley mlp 0.01432570469798433\n",
      "hill_valley knn 6.089064484131762e-24\n",
      "ionosphere random_forest 4.512416022818207e-06\n",
      "ionosphere decision_tree 0.6223392071971128\n",
      "ionosphere mlp 0.0007379659851516719\n",
      "ionosphere knn 0.015315579311105252\n",
      "megawatt1 random_forest 9.357415781952477e-10\n",
      "megawatt1 decision_tree 3.9382146796917515e-13\n",
      "megawatt1 mlp 4.507064770840562e-08\n",
      "megawatt1 knn 6.628621530596837e-13\n",
      "sonar random_forest 1.8385498991165546e-09\n",
      "sonar decision_tree 9.890151335825339e-15\n",
      "sonar mlp 1.6197877872358417e-10\n",
      "sonar knn 2.3141842994329574e-12\n",
      "spam random_forest 5.642678616057427e-18\n",
      "spam decision_tree 4.6750361043694595e-06\n",
      "spam mlp 0.004241165631725602\n",
      "spam knn 0.4850773683911104\n"
     ]
    }
   ],
   "source": [
    "for dataset in datasets:\n",
    "    for model in models:\n",
    "        optimized = df.query('model ==\"' + model + '\" and dataset==\"'+dataset+'\"')[\"score_optimized\"]\n",
    "        not_optimized = df.query('model == \"decision_tree\" and dataset==\"hill_valley\"')[\"score_not_optimized\"]\n",
    "        _,p = ttest_rel(not_optimized, optimized)\n",
    "        print(dataset, model, p)"
   ]
  },
  {
   "cell_type": "code",
   "execution_count": 29,
   "id": "flexible-omega",
   "metadata": {},
   "outputs": [
    {
     "data": {
      "text/html": [
       "<div>\n",
       "<style scoped>\n",
       "    .dataframe tbody tr th:only-of-type {\n",
       "        vertical-align: middle;\n",
       "    }\n",
       "\n",
       "    .dataframe tbody tr th {\n",
       "        vertical-align: top;\n",
       "    }\n",
       "\n",
       "    .dataframe thead th {\n",
       "        text-align: right;\n",
       "    }\n",
       "</style>\n",
       "<table border=\"1\" class=\"dataframe\">\n",
       "  <thead>\n",
       "    <tr style=\"text-align: right;\">\n",
       "      <th></th>\n",
       "      <th>score_not_optimized</th>\n",
       "      <th>score_optimized</th>\n",
       "    </tr>\n",
       "  </thead>\n",
       "  <tbody>\n",
       "    <tr>\n",
       "      <th>count</th>\n",
       "      <td>30.000000</td>\n",
       "      <td>30.000000</td>\n",
       "    </tr>\n",
       "    <tr>\n",
       "      <th>mean</th>\n",
       "      <td>0.873940</td>\n",
       "      <td>0.848049</td>\n",
       "    </tr>\n",
       "    <tr>\n",
       "      <th>std</th>\n",
       "      <td>0.012146</td>\n",
       "      <td>0.008929</td>\n",
       "    </tr>\n",
       "    <tr>\n",
       "      <th>min</th>\n",
       "      <td>0.850783</td>\n",
       "      <td>0.833887</td>\n",
       "    </tr>\n",
       "    <tr>\n",
       "      <th>25%</th>\n",
       "      <td>0.866679</td>\n",
       "      <td>0.842259</td>\n",
       "    </tr>\n",
       "    <tr>\n",
       "      <th>50%</th>\n",
       "      <td>0.873299</td>\n",
       "      <td>0.847205</td>\n",
       "    </tr>\n",
       "    <tr>\n",
       "      <th>75%</th>\n",
       "      <td>0.883901</td>\n",
       "      <td>0.852621</td>\n",
       "    </tr>\n",
       "    <tr>\n",
       "      <th>max</th>\n",
       "      <td>0.896853</td>\n",
       "      <td>0.865368</td>\n",
       "    </tr>\n",
       "  </tbody>\n",
       "</table>\n",
       "</div>"
      ],
      "text/plain": [
       "       score_not_optimized  score_optimized\n",
       "count            30.000000        30.000000\n",
       "mean              0.873940         0.848049\n",
       "std               0.012146         0.008929\n",
       "min               0.850783         0.833887\n",
       "25%               0.866679         0.842259\n",
       "50%               0.873299         0.847205\n",
       "75%               0.883901         0.852621\n",
       "max               0.896853         0.865368"
      ]
     },
     "execution_count": 29,
     "metadata": {},
     "output_type": "execute_result"
    }
   ],
   "source": [
    "df.query('model == \"mlp\" and dataset==\"spam\"')[[\"score_not_optimized\", \"score_optimized\"]].describe()"
   ]
  },
  {
   "cell_type": "code",
   "execution_count": 30,
   "id": "national-courage",
   "metadata": {},
   "outputs": [
    {
     "data": {
      "text/plain": [
       "0.9870129870129868"
      ]
     },
     "execution_count": 30,
     "metadata": {},
     "output_type": "execute_result"
    }
   ],
   "source": [
    "df.query('model == \"random_forest\" and dataset==\"ionosphere\"')['score_optimized'].max()"
   ]
  },
  {
   "cell_type": "code",
   "execution_count": null,
   "id": "educational-destiny",
   "metadata": {},
   "outputs": [],
   "source": []
  }
 ],
 "metadata": {
  "kernelspec": {
   "display_name": "Python 3",
   "language": "python",
   "name": "python3"
  },
  "language_info": {
   "codemirror_mode": {
    "name": "ipython",
    "version": 3
   },
   "file_extension": ".py",
   "mimetype": "text/x-python",
   "name": "python",
   "nbconvert_exporter": "python",
   "pygments_lexer": "ipython3",
   "version": "3.7.4"
  }
 },
 "nbformat": 4,
 "nbformat_minor": 5
}
